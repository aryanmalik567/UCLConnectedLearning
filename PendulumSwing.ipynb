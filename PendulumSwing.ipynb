{
 "cells": [
  {
   "cell_type": "code",
   "execution_count": 1,
   "metadata": {
    "collapsed": true
   },
   "outputs": [
    {
     "name": "stdout",
     "output_type": "stream",
     "text": [
      "Calculated period, T = 2.1550000000000002 s\n",
      "Estimated small-displacement angle period, Tharm = 2.0060666807106475 s\n",
      "SciPy calculated period, T = 2.152874666880516 s\n"
     ]
    },
    {
     "data": {
      "text/plain": "<Figure size 432x288 with 1 Axes>",
      "image/png": "[encoded data removed]"
     },
     "metadata": {
      "needs_background": "light"
     },
     "output_type": "display_data"
    }
   ],
   "source": [
    "import numpy as np\n",
    "import matplotlib.pyplot as plt\n",
    "from scipy.special import ellipk\n",
    "import matplotlib.animation as animation\n",
    "\n",
    "m, L, g = 1, 1, 9.81 # Mass, Length, Acceleration\n",
    "theta0, v0 = np.radians(60), 0 # Initial values\n",
    "\n",
    "approxT = 2 * np.pi * np.sqrt(L / g) # Est of period from small displacement approximation\n",
    "\n",
    "dt = 0.001 # Time step for numerical integration of the equation of motion (s).\n",
    "theta, v = [theta0], [v0] # Variable initialisation\n",
    "old_theta = theta0\n",
    "i = 0\n",
    "\n",
    "while True:\n",
    "    i += 1\n",
    "    t = i * dt\n",
    "\n",
    "    old_theta, old_v = theta[-1], v[-1]\n",
    "    omega = old_v / L # Angular velocity\n",
    "    new_theta = old_theta - omega * dt\n",
    "\n",
    "    acc = g * np.sin(old_theta) # Tangential acceleration.\n",
    "    new_v = old_v + acc * dt # New tangential velocity\n",
    "\n",
    "    if t > approxT and new_v * old_v < 0:\n",
    "        # End of period\n",
    "        break\n",
    "\n",
    "    theta.append(new_theta)\n",
    "    v.append(new_v)\n",
    "\n",
    "# Calculate the estimated pendulum period, T, from our numerical integration,\n",
    "# and the \"exact\" value in terms of the complete elliptic integral of the\n",
    "# first kind.\n",
    "nsteps = len(theta)\n",
    "T = nsteps * dt\n",
    "print('Calculated period, T = {} s'.format(T))\n",
    "print('Estimated small-displacement angle period, Tharm = {} s'.format(approxT))\n",
    "k = np.sin(theta0/2)\n",
    "print('SciPy calculated period, T = {} s'\n",
    "                .format(2 * approxT / np.pi * ellipk(k**2)))\n",
    "\n",
    "def get_coords(th):\n",
    "    \"\"\"Return the (x, y) coordinates of the bob at angle th.\"\"\"\n",
    "    return L * np.sin(th), -L * np.cos(th)\n",
    "\n",
    "# Initialize the animation plot. Make the aspect ratio equal so it looks right.\n",
    "fig = plt.figure()\n",
    "ax = fig.add_subplot(aspect='equal')\n",
    "# The pendulum rod, in its initial position.\n",
    "x0, y0 = get_coords(theta0)\n",
    "line, = ax.plot([0, x0], [0, y0], lw=3, c='k')\n",
    "# The pendulum bob: set zorder so that it is drawn over the pendulum rod.\n",
    "bob_radius = 0.08\n",
    "circle = ax.add_patch(plt.Circle(get_coords(theta0), bob_radius,\n",
    "                      fc='r', zorder=3))\n",
    "# Set the plot limits so that the pendulum has room to swing!\n",
    "ax.set_xlim(-L*1.2, L*1.2)\n",
    "ax.set_ylim(-L*1.2, L*1.2)\n",
    "\n",
    "def animate(i):\n",
    "    \"\"\"Update the animation at frame i.\"\"\"\n",
    "    x, y = get_coords(theta[i])\n",
    "    line.set_data([0, x], [0, y])\n",
    "    circle.set_center((x, y))\n",
    "\n",
    "nframes = nsteps\n",
    "interval = dt * 1000\n",
    "ani = animation.FuncAnimation(fig, animate, frames=nframes, repeat=True,\n",
    "                              interval=interval)\n",
    "plt.show()\n"
   ]
  }
 ],
 "metadata": {
  "kernelspec": {
   "display_name": "Python 3",
   "language": "python",
   "name": "python3"
  },
  "language_info": {
   "codemirror_mode": {
    "name": "ipython",
    "version": 2
   },
   "file_extension": ".py",
   "mimetype": "text/x-python",
   "name": "python",
   "nbconvert_exporter": "python",
   "pygments_lexer": "ipython2",
   "version": "2.7.6"
  }
 },
 "nbformat": 4,
 "nbformat_minor": 0
}