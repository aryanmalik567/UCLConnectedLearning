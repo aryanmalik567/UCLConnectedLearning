{
 "cells": [
  {
   "cell_type": "code",
   "execution_count": 60,
   "metadata": {
    "pycharm": {
     "name": "#%%\n"
    }
   },
   "outputs": [
    {
     "data": {
      "text/plain": "interactive(children=(Play(value=1, description='theta', interval=0, max=2154, step=2), Output()), _dom_classe…",
      "application/vnd.jupyter.widget-view+json": {
       "version_major": 2,
       "version_minor": 0,
       "model_id": "fdd0f0541f15433183e11a5c0d7c3f7e"
      }
     },
     "metadata": {},
     "output_type": "display_data"
    },
    {
     "data": {
      "text/plain": "<function __main__.animate(theta)>"
     },
     "execution_count": 60,
     "metadata": {},
     "output_type": "execute_result"
    }
   ],
   "source": [
    "import numpy as np\n",
    "import matplotlib.pyplot as plt\n",
    "from scipy.special import ellipk\n",
    "import matplotlib.animation as animation\n",
    "import ipywidgets as widgets\n",
    "\n",
    "m, L, g = 1, 1, 9.81 # Mass, Length, Acceleration\n",
    "theta0, v0 = np.radians(60), 0 # Initial values\n",
    "\n",
    "approxT = 2 * np.pi * np.sqrt(L / g) # Est of period from small displacement approximation\n",
    "\n",
    "dt = 0.001 # Time step for numerical integration of the equation of motion (s).\n",
    "thetas, vs = [theta0], [v0] # Variable initialisation\n",
    "old_theta = theta0\n",
    "i = 0\n",
    "\n",
    "omegas = []\n",
    "\n",
    "while True:\n",
    "    i += 1\n",
    "    t = i * dt\n",
    "\n",
    "    old_theta, old_v = thetas[-1], vs[-1]\n",
    "    omega = old_v / L # Angular velocity\n",
    "    omegas.append(omega*400) # To plot d(theta)/dt later on, scaling up by 400x\n",
    "    new_theta = old_theta + omega * dt\n",
    "\n",
    "    acc = -g * np.sin(old_theta) # Tangential acceleration.\n",
    "    new_v = old_v + acc * dt # New tangential velocity\n",
    "\n",
    "    if t > approxT and new_v * old_v < 0:\n",
    "        # End of period\n",
    "        break\n",
    "\n",
    "    thetas.append(new_theta) # Sequence of changing angles\n",
    "    vs.append(new_v) # Sequence of changing velocities\n",
    "\n",
    "def get_coords(angle):\n",
    "    return L * np.sin(angle), -L * np.cos(angle)\n",
    "\n",
    "def animate(theta):\n",
    "    x, y = get_coords(thetas[theta])\n",
    "    fig, (ax1, ax2) = plt.subplots(2)\n",
    "    fig.set_size_inches(18.5, 10.5, forward=True)\n",
    "\n",
    "    ax1.set_aspect('equal', adjustable='box')\n",
    "    ax1.plot([0, x], [0, y], lw=3, c='k')\n",
    "    ax1.add_patch(plt.Circle((x, y), 0.08, color='black', zorder=3))\n",
    "    ax1.add_patch(plt.Circle((0, 0), L, linestyle='dashed', facecolor='none', edgecolor='grey'))\n",
    "    ax1.set_xlim(-L*1.2, L*1.2)\n",
    "    ax1.set_ylim(-L*1.2, L*1.2)\n",
    "    ax1.xaxis.set_visible(False)\n",
    "    ax1.yaxis.set_visible(False)\n",
    "\n",
    "    ax2.set_aspect(0.5)\n",
    "    xs = np.arange(0, len(omegas), 1)\n",
    "    ax2.plot(xs, omegas, color='orange')\n",
    "    ax2.plot(theta, omegas[theta], 'ro', markersize=10)\n",
    "    ax2.spines['bottom'].set_position('center')\n",
    "    ax2.set_yticklabels([]) # Remove numbers from axis\n",
    "    ax2.set_xticklabels([])\n",
    "\n",
    "    return plt.show()\n",
    "\n",
    "\n",
    "widgets.interact(animate, theta = widgets.Play(min=0, max=2154, step=2, value=1, interval=0.1))\n"
   ]
  }
 ],
 "metadata": {
  "kernelspec": {
   "display_name": "Python 3 (ipykernel)",
   "language": "python",
   "name": "python3"
  },
  "language_info": {
   "codemirror_mode": {
    "name": "ipython",
    "version": 3
   },
   "file_extension": ".py",
   "mimetype": "text/x-python",
   "name": "python",
   "nbconvert_exporter": "python",
   "pygments_lexer": "ipython3",
   "version": "3.9.6"
  }
 },
 "nbformat": 4,
 "nbformat_minor": 1
}