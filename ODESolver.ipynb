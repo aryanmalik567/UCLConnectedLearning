{
 "cells": [
  {
   "cell_type": "code",
   "execution_count": null,
   "metadata": {
    "collapsed": true,
    "pycharm": {
     "is_executing": true
    }
   },
   "outputs": [
    {
     "data": {
      "text/plain": "interactive(children=(IntSlider(value=1, description='a', max=9, min=-9), IntSlider(value=1, description='b', …",
      "application/vnd.jupyter.widget-view+json": {
       "version_major": 2,
       "version_minor": 0,
       "model_id": "c772b03979ef4725bf380d2a36a76b22"
      }
     },
     "metadata": {},
     "output_type": "display_data"
    },
    {
     "data": {
      "text/plain": "<function __main__.equation(a, b, c, RHS)>"
     },
     "execution_count": 53,
     "metadata": {},
     "output_type": "execute_result"
    }
   ],
   "source": [
    "from sympy import *\n",
    "import ipywidgets as widgets\n",
    "\n",
    "x = symbols('x')\n",
    "y = symbols('y', cls=Function)\n",
    "ode = None\n",
    "\n",
    "def equation(a, b, c, RHS):\n",
    "    global ode\n",
    "    ode = Eq (a*Derivative(y(x), x, x) + b*Derivative(y(x), x) + c*y(x), eval(RHS))\n",
    "    return ode\n",
    "\n",
    "widgets.interact(equation, a = widgets.IntSlider(min=-9, max=9, step=1, value=1),\n",
    "                            b = widgets.IntSlider(min=-9, max=9, step=1, value=1),\n",
    "                            c = widgets.IntSlider(min=-9, max=9, step=1, value=1),\n",
    "                            RHS = widgets.Text(value=\"exp(x)*sin(2*x)\", placeholder=\"Input RHS of ODE\", description=\"RHS\"))"
   ]
  },
  {
   "cell_type": "code",
   "execution_count": 68,
   "outputs": [
    {
     "data": {
      "text/plain": "Eq(y(x), C1*exp(x*(-1 + sqrt(13))/2) + C2*exp(x*(-sqrt(13) - 1)/2) - 5*exp(x)*sin(2*x)/61 - 6*exp(x)*cos(2*x)/61)",
      "text/latex": "$\\displaystyle y{\\left(x \\right)} = C_{1} e^{\\frac{x \\left(-1 + \\sqrt{13}\\right)}{2}} + C_{2} e^{\\frac{x \\left(- \\sqrt{13} - 1\\right)}{2}} - \\frac{5 e^{x} \\sin{\\left(2 x \\right)}}{61} - \\frac{6 e^{x} \\cos{\\left(2 x \\right)}}{61}$"
     },
     "execution_count": 68,
     "metadata": {},
     "output_type": "execute_result"
    }
   ],
   "source": [
    "#Solve without initial conditions\n",
    "dsolve(ode, y(x))"
   ],
   "metadata": {
    "collapsed": false,
    "pycharm": {
     "name": "#%%\n"
    }
   }
  },
  {
   "cell_type": "code",
   "execution_count": 67,
   "outputs": [
    {
     "data": {
      "text/plain": "interactive(children=(IntSlider(value=0, description='x0', max=9, min=-9), IntSlider(value=0, description='y0'…",
      "application/vnd.jupyter.widget-view+json": {
       "version_major": 2,
       "version_minor": 0,
       "model_id": "bd7350128a2b460facd394cf8aa70984"
      }
     },
     "metadata": {},
     "output_type": "display_data"
    },
    {
     "data": {
      "text/plain": "<function __main__.test(x0, y0, x1, y1)>"
     },
     "execution_count": 67,
     "metadata": {},
     "output_type": "execute_result"
    }
   ],
   "source": [
    "#Solve with initial conditions\n",
    "def test(x0, y0, x1, y1):\n",
    "    return dsolve(ode, y(x), ics={y(x0):y0, y(x).diff(x).subs(x, x1):y1})\n",
    "\n",
    "widgets.interact(test, x0 = widgets.IntSlider(min=-9, max=9, step=1, value=0),\n",
    "                 y0 = widgets.IntSlider(min=-9, max=9, step=1, value=0),\n",
    "                 x1 = widgets.IntSlider(min=-9, max=9, step=1, value=0),\n",
    "                 y1 = widgets.IntSlider(min=-9, max=9, step=1, value=0))"
   ],
   "metadata": {
    "collapsed": false,
    "pycharm": {
     "name": "#%%\n"
    }
   }
  }
 ],
 "metadata": {
  "kernelspec": {
   "display_name": "Python 3",
   "language": "python",
   "name": "python3"
  },
  "language_info": {
   "codemirror_mode": {
    "name": "ipython",
    "version": 2
   },
   "file_extension": ".py",
   "mimetype": "text/x-python",
   "name": "python",
   "nbconvert_exporter": "python",
   "pygments_lexer": "ipython2",
   "version": "2.7.6"
  }
 },
 "nbformat": 4,
 "nbformat_minor": 0
}