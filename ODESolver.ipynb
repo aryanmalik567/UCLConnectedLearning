{
 "cells": [
  {
   "cell_type": "code",
   "execution_count": 35,
   "metadata": {
    "collapsed": true
   },
   "outputs": [
    {
     "data": {
      "text/plain": "interactive(children=(IntSlider(value=1, description='a', max=9, min=-9), IntSlider(value=1, description='b', …",
      "application/vnd.jupyter.widget-view+json": {
       "version_major": 2,
       "version_minor": 0,
       "model_id": "4553b0e735af43ef9e2cecb6afbdc752"
      }
     },
     "metadata": {},
     "output_type": "display_data"
    },
    {
     "data": {
      "text/plain": "<function __main__.equation(a, b, c, RHS)>"
     },
     "execution_count": 35,
     "metadata": {},
     "output_type": "execute_result"
    }
   ],
   "source": [
    "from sympy import *\n",
    "import ipywidgets as widgets\n",
    "\n",
    "x = symbols('x')\n",
    "y = symbols('y', cls=Function)\n",
    "ode = None\n",
    "\n",
    "def equation(a, b, c, RHS):\n",
    "    global ode\n",
    "    ode = Eq (a*Derivative(y(x), x, x) + b*Derivative(y(x), x) + c*y(x), eval(RHS))\n",
    "    return ode\n",
    "\n",
    "widgets.interact(equation, a = widgets.IntSlider(min=-9, max=9, step=1, value=1),\n",
    "                            b = widgets.IntSlider(min=-9, max=9, step=1, value=1),\n",
    "                            c = widgets.IntSlider(min=-9, max=9, step=1, value=1),\n",
    "                            RHS = widgets.Text(value=\"exp(x)*sin(2*x)\", placeholder=\"Input RHS of ODE\", description=\"RHS\"))"
   ]
  },
  {
   "cell_type": "code",
   "execution_count": 48,
   "outputs": [
    {
     "data": {
      "text/plain": "Text(value='', description='y(0)', placeholder='Initial value of y(x)')",
      "application/vnd.jupyter.widget-view+json": {
       "version_major": 2,
       "version_minor": 0,
       "model_id": "86ee4dc1041b4d3d8572064a362cd74f"
      }
     },
     "metadata": {},
     "output_type": "display_data"
    },
    {
     "data": {
      "text/plain": "Button(description='Solve problem', style=ButtonStyle())",
      "application/vnd.jupyter.widget-view+json": {
       "version_major": 2,
       "version_minor": 0,
       "model_id": "9989db1504984b95ab60f5a18136ac75"
      }
     },
     "metadata": {},
     "output_type": "display_data"
    },
    {
     "data": {
      "text/plain": "Output()",
      "application/vnd.jupyter.widget-view+json": {
       "version_major": 2,
       "version_minor": 0,
       "model_id": "3fae5591b68746b8965cef1b553b3081"
      }
     },
     "metadata": {},
     "output_type": "display_data"
    }
   ],
   "source": [
    "from IPython.display import display\n",
    "\n",
    "y_0 = widgets.Text(value=None, placeholder=\"Leave empty if none\", description=\"y(0)\")\n",
    "button = widgets.Button(description=\"Solve problem\")\n",
    "output = widgets.Output()\n",
    "display(y_0, button, output)\n",
    "\n",
    "sol = None\n",
    "\n",
    "def on_button_clicked(b):\n",
    "    global sol\n",
    "    sol = dsolve(ode, y(x))\n",
    "\n",
    "sol\n",
    "dsolve(ode, y(x))\n",
    "button.on_click(on_button_clicked)"
   ],
   "metadata": {
    "collapsed": false,
    "pycharm": {
     "name": "#%%\n"
    }
   }
  },
  {
   "cell_type": "code",
   "execution_count": 51,
   "outputs": [
    {
     "data": {
      "text/plain": "Eq(y(x), (C1*sin(sqrt(3)*x/2) + C2*cos(sqrt(3)*x/2))*exp(-x/2) + (-sin(2*x) - 6*cos(2*x))*exp(x)/37)",
      "text/latex": "$\\displaystyle y{\\left(x \\right)} = \\left(C_{1} \\sin{\\left(\\frac{\\sqrt{3} x}{2} \\right)} + C_{2} \\cos{\\left(\\frac{\\sqrt{3} x}{2} \\right)}\\right) e^{- \\frac{x}{2}} + \\frac{\\left(- \\sin{\\left(2 x \\right)} - 6 \\cos{\\left(2 x \\right)}\\right) e^{x}}{37}$"
     },
     "execution_count": 51,
     "metadata": {},
     "output_type": "execute_result"
    }
   ],
   "source": [
    "dsolve(ode, y(x))\n"
   ],
   "metadata": {
    "collapsed": false,
    "pycharm": {
     "name": "#%%\n"
    }
   }
  }
 ],
 "metadata": {
  "kernelspec": {
   "display_name": "Python 3",
   "language": "python",
   "name": "python3"
  },
  "language_info": {
   "codemirror_mode": {
    "name": "ipython",
    "version": 2
   },
   "file_extension": ".py",
   "mimetype": "text/x-python",
   "name": "python",
   "nbconvert_exporter": "python",
   "pygments_lexer": "ipython2",
   "version": "2.7.6"
  }
 },
 "nbformat": 4,
 "nbformat_minor": 0
}