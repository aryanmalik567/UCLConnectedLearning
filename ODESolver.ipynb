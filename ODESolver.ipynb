{
 "cells": [
  {
   "cell_type": "code",
   "execution_count": 72,
   "metadata": {},
   "outputs": [
    {
     "data": {
      "text/plain": "interactive(children=(IntSlider(value=1, description='a', max=9, min=-9), IntSlider(value=1, description='b', …",
      "application/vnd.jupyter.widget-view+json": {
       "version_major": 2,
       "version_minor": 0,
       "model_id": "47b288f4cbe64214b2ba876090d26941"
      }
     },
     "metadata": {},
     "output_type": "display_data"
    },
    {
     "data": {
      "text/plain": "<function __main__.equation(a, b, c, RHS)>"
     },
     "execution_count": 72,
     "metadata": {},
     "output_type": "execute_result"
    }
   ],
   "source": [
    "from sympy import *\n",
    "import ipywidgets as widgets\n",
    "\n",
    "x = symbols('x')\n",
    "y = symbols('y', cls=Function)\n",
    "ode = None\n",
    "\n",
    "def equation(a, b, c, RHS):\n",
    "    global ode\n",
    "    ode = Eq (a*Derivative(y(x), x, x) + b*Derivative(y(x), x) + c*y(x), eval(RHS))\n",
    "    return ode\n",
    "\n",
    "widgets.interact(equation, a = widgets.IntSlider(min=-9, max=9, step=1, value=1),\n",
    "                            b = widgets.IntSlider(min=-9, max=9, step=1, value=1),\n",
    "                            c = widgets.IntSlider(min=-9, max=9, step=1, value=1),\n",
    "                            RHS = widgets.Text(value=\"exp(x)*sin(2*x)\", placeholder=\"Input RHS of ODE\", description=\"RHS\"))"
   ]
  },
  {
   "cell_type": "code",
   "execution_count": 73,
   "metadata": {
    "pycharm": {
     "name": "#%%\n"
    }
   },
   "outputs": [
    {
     "data": {
      "text/plain": "Button(description='Solve ODE', style=ButtonStyle())",
      "application/vnd.jupyter.widget-view+json": {
       "version_major": 2,
       "version_minor": 0,
       "model_id": "ef3c0671eead490f83f21251895a0d38"
      }
     },
     "metadata": {},
     "output_type": "display_data"
    },
    {
     "data": {
      "text/plain": "Output()",
      "application/vnd.jupyter.widget-view+json": {
       "version_major": 2,
       "version_minor": 0,
       "model_id": "4b40692fa162405d9f84fb70235ccbfe"
      }
     },
     "metadata": {},
     "output_type": "display_data"
    }
   ],
   "source": [
    "from IPython.display import display, clear_output\n",
    "button = widgets.Button(description = \"Solve ODE\")\n",
    "output = widgets.Output()\n",
    "\n",
    "display(button, output)\n",
    "\n",
    "expr = dsolve(ode, y(x))\n",
    "\n",
    "def on_button_clicked(b):\n",
    "    with output:\n",
    "        clear_output(wait=True)\n",
    "        display(dsolve(ode, y(x)))\n",
    "\n",
    "button.on_click(on_button_clicked)"
   ]
  },
  {
   "cell_type": "code",
   "execution_count": 75,
   "metadata": {
    "pycharm": {
     "name": "#%%\n"
    }
   },
   "outputs": [
    {
     "data": {
      "text/plain": "interactive(children=(IntSlider(value=0, description='x0 = ', max=9, min=-9), IntSlider(value=0, description='…",
      "application/vnd.jupyter.widget-view+json": {
       "version_major": 2,
       "version_minor": 0,
       "model_id": "932fb00a4c5f421d915a345cbd92c4c7"
      }
     },
     "metadata": {},
     "output_type": "display_data"
    },
    {
     "data": {
      "text/plain": "<function __main__.test(x0, y0, x1, y1)>"
     },
     "execution_count": 75,
     "metadata": {},
     "output_type": "execute_result"
    }
   ],
   "source": [
    "#Solve with initial conditions\n",
    "def test(x0, y0, x1, y1):\n",
    "    return dsolve(ode, y(x), ics={y(x0):y0, y(x).diff(x).subs(x, x1):y1})\n",
    "\n",
    "widgets.interact(test, x0 = widgets.IntSlider(min=-9, max=9, step=1, value=0, description=\"x0 = \"),\n",
    "                 y0 = widgets.IntSlider(min=-9, max=9, step=1, value=0, description=\"y(x0) =\"),\n",
    "                 x1 = widgets.IntSlider(min=-9, max=9, step=1, value=0, description=\"x1 = \"),\n",
    "                 y1 = widgets.IntSlider(min=-9, max=9, step=1, value=0, description=\"y'(x1) = \"))"
   ]
  }
 ],
 "metadata": {
  "kernelspec": {
   "display_name": "Python 3 (ipykernel)",
   "language": "python",
   "name": "python3"
  },
  "language_info": {
   "codemirror_mode": {
    "name": "ipython",
    "version": 3
   },
   "file_extension": ".py",
   "mimetype": "text/x-python",
   "name": "python",
   "nbconvert_exporter": "python",
   "pygments_lexer": "ipython3",
   "version": "3.9.6"
  }
 },
 "nbformat": 4,
 "nbformat_minor": 1
}