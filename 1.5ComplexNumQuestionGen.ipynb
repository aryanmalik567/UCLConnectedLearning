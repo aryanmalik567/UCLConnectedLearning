{
 "cells": [
  {
   "cell_type": "code",
   "execution_count": 54,
   "metadata": {
    "pycharm": {
     "name": "#%%\n"
    }
   },
   "outputs": [
    {
     "name": "stdout",
     "output_type": "stream",
     "text": [
      "test\n"
     ]
    },
    {
     "name": "stderr",
     "output_type": "stream",
     "text": [
      "c:\\users\\aryan\\pycharmprojects\\uclconnectedlearning\\venv\\lib\\site-packages\\IPython\\lib\\latextools.py:126: MatplotlibDeprecationWarning: \n",
      "The to_png function was deprecated in Matplotlib 3.4 and will be removed two minor releases later. Use mathtext.math_to_image instead.\n",
      "  mt.to_png(f, s, fontsize=12, dpi=dpi, color=color)\n",
      "c:\\users\\aryan\\pycharmprojects\\uclconnectedlearning\\venv\\lib\\site-packages\\IPython\\lib\\latextools.py:126: MatplotlibDeprecationWarning: \n",
      "The to_rgba function was deprecated in Matplotlib 3.4 and will be removed two minor releases later. Use mathtext.math_to_image instead.\n",
      "  mt.to_png(f, s, fontsize=12, dpi=dpi, color=color)\n",
      "c:\\users\\aryan\\pycharmprojects\\uclconnectedlearning\\venv\\lib\\site-packages\\IPython\\lib\\latextools.py:126: MatplotlibDeprecationWarning: \n",
      "The to_mask function was deprecated in Matplotlib 3.4 and will be removed two minor releases later. Use mathtext.math_to_image instead.\n",
      "  mt.to_png(f, s, fontsize=12, dpi=dpi, color=color)\n",
      "c:\\users\\aryan\\pycharmprojects\\uclconnectedlearning\\venv\\lib\\site-packages\\IPython\\lib\\latextools.py:126: MatplotlibDeprecationWarning: \n",
      "The MathtextBackendBitmap class was deprecated in Matplotlib 3.4 and will be removed two minor releases later. Use mathtext.math_to_image instead.\n",
      "  mt.to_png(f, s, fontsize=12, dpi=dpi, color=color)\n"
     ]
    },
    {
     "data": {
      "text/plain": "      ⎛ i⋅θ    i⋅(2⋅π + θ)    i⋅(4⋅π + θ)⎞\n      ⎜ ───    ───────────    ───────────⎟\n5 ___ ⎜  5          5              5     ⎟\n╲╱ r ⋅⎝e    + e            + e           ⎠",
      "image/png": "[encoded data removed]",
      "text/latex": "$\\displaystyle \\sqrt[5]{r} \\left(e^{\\frac{i \\theta}{5}} + e^{\\frac{i \\left(2 \\pi + \\theta\\right)}{5}} + e^{\\frac{i \\left(4 \\pi + \\theta\\right)}{5}}\\right)$"
     },
     "execution_count": 54,
     "metadata": {},
     "output_type": "execute_result"
    }
   ],
   "source": [
    "import cmath\n",
    "import math\n",
    "import sympy\n",
    "import matplotlib.pyplot as plt\n",
    "from fractions import Fraction\n",
    "\n",
    "def polar_roots(power, num):\n",
    "    mag = sympy.sqrt(num.real**2 + num.imag**2)\n",
    "    arg = math.atan2(num.imag, num.real)\n",
    "\n",
    "# Work in progress\n",
    "\n"
   ]
  },
  {
   "cell_type": "code",
   "execution_count": 55,
   "outputs": [
    {
     "data": {
      "text/plain": "      ⎛ i⋅θ    i⋅(2⋅π + θ)    i⋅(4⋅π + θ)⎞\n      ⎜ ───    ───────────    ───────────⎟\n5 ___ ⎜  5          5              5     ⎟\n╲╱ r ⋅⎝e    + e            + e           ⎠",
      "image/png": "[encoded data removed]",
      "text/latex": "$\\displaystyle \\sqrt[5]{r} \\left(e^{\\frac{i \\theta}{5}} + e^{\\frac{i \\left(2 \\pi + \\theta\\right)}{5}} + e^{\\frac{i \\left(4 \\pi + \\theta\\right)}{5}}\\right)$"
     },
     "execution_count": 55,
     "metadata": {},
     "output_type": "execute_result"
    }
   ],
   "source": [
    "# Work in progress\n",
    "power=5\n",
    "sympy.init_printing()\n",
    "r, e, i, t, p, \\\n",
    "c1, c2, c3, c4, c5, c6, c7, c8, c9,\\\n",
    "p1, p2, p3, p4, p5, p6, p7, p8, p9 = sympy.symbols('r e i theta pi q'\n",
    "                                                'c1 c2 c3 c4 c5 c6 c7 c8 c9 q'\n",
    "                                                'p1 p2 p3 p4 p5 p6 p7 p8 p9')\n",
    "expr = r**(Fraction(1,power))*(c1*e**(i/power*(t+p1*p)) + c2*e**(i/power*(t+p2*p)) + c3*e**(i/power*(t+p3*p))\n",
    "                           + c4*e**(i/power*(t+p4*p)) + c5*e**(i/power*(t+p5*p)) + c6*e**(i/power*(t+p6*p))\n",
    "                           + c7*e**(i/power*(t+p7*p)) + c8*e**(i/power*(t+p8*p)) + c9*e**(i/power*(t+p9*p)))\n",
    "expr.subs([(p1, 0), (p2, 2), (p3, 4), (p4, 6), (p5, 8), (p6, 10), (p7, 12), (p8, 14), (p9, 16)\n",
    "           , (c1, 1), (c2, 1), (c3, 1), (c4, 0), (c5, 0), (c6, 0), (c7, 0), (c8, 0), (c9, 0)])"
   ],
   "metadata": {
    "collapsed": false,
    "pycharm": {
     "name": "#%%\n"
    }
   }
  },
  {
   "cell_type": "code",
   "execution_count": null,
   "outputs": [],
   "source": [
    "# Done\n",
    "def complex_cartesian_roots(power, num):\n",
    "    x = num.real\n",
    "    y = num.imag\n",
    "    mag = abs(num)\n",
    "    arg = math.atan2(y, x)\n",
    "\n",
    "    root_mag = mag**(1/power)\n",
    "    root_args = [(arg + 2*math.pi*k) / power for k in range(1, power+1)]\n",
    "\n",
    "    return [root_mag*(math.cos(root) + math.sin(root)*1j) for root in root_args]\n",
    "\n",
    "def root_plotter(list_of_roots):\n",
    "    ax = plt.gca() # Create axis\n",
    "    ax.spines['left'].set_position('zero') # Centre axis\n",
    "    ax.spines['right'].set_visible(False)\n",
    "    ax.spines['bottom'].set_position('zero')\n",
    "    ax.spines['top'].set_visible(False)\n",
    "    ax.yaxis.set_ticks_position('left')\n",
    "    ax.xaxis.set_ticks_position('bottom')\n",
    "\n",
    "    plt.ylabel('Im', loc='top', fontsize=12) # Label axis\n",
    "    plt.xlabel('Re', loc='right', fontsize=12)\n",
    "    ax.plot(1, 0, \">k\", transform=ax.get_yaxis_transform(), clip_on=False) # Add arrows to axis\n",
    "    ax.plot(0, 1, \"^k\", transform=ax.get_xaxis_transform(), clip_on=False)\n",
    "\n",
    "    for root in list_of_roots:\n",
    "        ax.plot([0,root.real], [0,root.imag], 'bo-')\n",
    "\n",
    "root_plotter(complex_cartesian_roots(7, 8+4j))\n"
   ],
   "metadata": {
    "collapsed": false,
    "pycharm": {
     "name": "#%%\n"
    }
   }
  }
 ],
 "metadata": {
  "kernelspec": {
   "display_name": "Python 3 (ipykernel)",
   "language": "python",
   "name": "python3"
  },
  "language_info": {
   "codemirror_mode": {
    "name": "ipython",
    "version": 2
   },
   "file_extension": ".py",
   "mimetype": "text/x-python",
   "name": "python",
   "nbconvert_exporter": "python",
   "pygments_lexer": "ipython2",
   "version": "2.7.6"
  }
 },
 "nbformat": 4,
 "nbformat_minor": 1
}