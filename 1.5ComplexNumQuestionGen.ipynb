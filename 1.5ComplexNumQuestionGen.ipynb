{
 "cells": [
  {
   "cell_type": "code",
   "execution_count": 1,
   "metadata": {
    "pycharm": {
     "name": "#%%\n"
    }
   },
   "outputs": [
    {
     "data": {
      "text/plain": "interactive(children=(Dropdown(description='n', options=(1, 2, 3, 4, 5, 6, 7, 8, 9), value=1), Output()), _dom…",
      "application/vnd.jupyter.widget-view+json": {
       "version_major": 2,
       "version_minor": 0,
       "model_id": "4ccc06d14c1e47f9a5eb0f0cc6750b56"
      }
     },
     "metadata": {},
     "output_type": "display_data"
    },
    {
     "data": {
      "text/plain": "Button(description='Generate problem', style=ButtonStyle())",
      "application/vnd.jupyter.widget-view+json": {
       "version_major": 2,
       "version_minor": 0,
       "model_id": "8587cb21a758401f93254cee95a762ee"
      }
     },
     "metadata": {},
     "output_type": "display_data"
    },
    {
     "data": {
      "text/plain": "Output()",
      "application/vnd.jupyter.widget-view+json": {
       "version_major": 2,
       "version_minor": 0,
       "model_id": "7a1d50c34ed34efeab957e42e0e542c3"
      }
     },
     "metadata": {},
     "output_type": "display_data"
    }
   ],
   "source": [
    "from IPython.display import clear_output, display\n",
    "import sympy\n",
    "import numpy as np\n",
    "import random\n",
    "import ipywidgets as widgets\n",
    "import math\n",
    "from fractions import Fraction\n",
    "\n",
    "z, i, r, e, t, p = sympy.symbols(\"z i r e theta pi\")\n",
    "\n",
    "button = widgets.Button(description=\"Generate problem\")\n",
    "output = widgets.Output()\n",
    "\n",
    "def power_select(n):\n",
    "    global z_power\n",
    "    z_power = n\n",
    "\n",
    "widgets.interact(power_select, n = [1, 2, 3, 4, 5, 6, 7, 8, 9])\n",
    "\n",
    "display(button, output)\n",
    "\n",
    "def on_button_clicked(b):\n",
    "    with output:\n",
    "        clear_output(wait=True)\n",
    "\n",
    "        global real\n",
    "        global imag\n",
    "        real = random.randint(-9, 9)\n",
    "        imag = random.randint(-9, 9)\n",
    "\n",
    "        root = random.randint(1, 6) # Randomly make some coefficients into roots\n",
    "        if root == 2:\n",
    "            real = np.sign(real) * sympy.sqrt(abs(real))\n",
    "        elif root == 5:\n",
    "            imag = np.sign(imag) * sympy.sqrt(abs(imag))\n",
    "\n",
    "        expr = sympy.Eq(z**z_power, real + imag*i)\n",
    "        sympy.pretty_print(expr)\n",
    "\n",
    "button.on_click(on_button_clicked)"
   ]
  },
  {
   "cell_type": "code",
   "execution_count": 99,
   "metadata": {
    "pycharm": {
     "name": "#%%\n"
    }
   },
   "outputs": [
    {
     "data": {
      "text/latex": [
       "$\\displaystyle \\left( r = \\sqrt{10}, \\  \\theta = \\operatorname{atan}{\\left(\\frac{1}{3} \\right)}, \\  \\left[ e^{\\frac{i \\theta}{6}} \\sqrt[6]{r}, \\  e^{\\frac{i \\left(2 \\pi + \\theta\\right)}{6}} \\sqrt[6]{r}, \\  e^{\\frac{i \\left(4 \\pi + \\theta\\right)}{6}} \\sqrt[6]{r}, \\  e^{\\frac{i \\left(6 \\pi + \\theta\\right)}{6}} \\sqrt[6]{r}, \\  e^{\\frac{i \\left(8 \\pi + \\theta\\right)}{6}} \\sqrt[6]{r}, \\  e^{\\frac{i \\left(10 \\pi + \\theta\\right)}{6}} \\sqrt[6]{r}\\right]\\right)$"
      ],
      "text/plain": [
       "⎛                        ⎡ i⋅θ         i⋅(2⋅π + θ)         i⋅(4⋅π + θ)        \n",
       "⎜                        ⎢ ───         ───────────         ───────────        \n",
       "⎜                        ⎢  6  6 ___        6      6 ___        6      6 ___  \n",
       "⎝r = √10, θ = atan(1/3), ⎣e   ⋅╲╱ r , e           ⋅╲╱ r , e           ⋅╲╱ r , \n",
       "\n",
       " i⋅(6⋅π + θ)         i⋅(8⋅π + θ)         i⋅(10⋅π + θ)      ⎤⎞\n",
       " ───────────         ───────────         ────────────      ⎥⎟\n",
       "      6      6 ___        6      6 ___        6       6 ___⎥⎟\n",
       "e           ⋅╲╱ r , e           ⋅╲╱ r , e            ⋅╲╱ r ⎦⎠"
      ]
     },
     "execution_count": 99,
     "metadata": {},
     "output_type": "execute_result"
    }
   ],
   "source": [
    "def get_polar_roots(power):\n",
    "    magnitude = sympy.sqrt(real**2 + imag**2)\n",
    "    argument = sympy.atan2(imag, real)\n",
    "    complex_roots = []\n",
    "\n",
    "    for k in range(0, power):\n",
    "        complex_roots.append( r ** (Fraction(1, power)) * (e ** ((t + 2*k*p) * i/power)))\n",
    "\n",
    "    return complex_roots, magnitude, argument\n",
    "\n",
    "polar_roots = get_polar_roots(z_power)\n",
    "roots, mag, arg = polar_roots[0], polar_roots[1], polar_roots[2]\n",
    "\n",
    "sympy.init_printing(use_latex='mathjax')\n",
    "sympy.Eq(r, mag), sympy.Eq(t, arg), roots"
   ]
  },
  {
   "cell_type": "code",
   "execution_count": 100,
   "metadata": {
    "pycharm": {
     "name": "#%%\n"
    }
   },
   "outputs": [
    {
     "data": {
      "image/png": "[encoded data removed]",
      "text/plain": [
       "<Figure size 432x288 with 1 Axes>"
      ]
     },
     "metadata": {
      "needs_background": "light"
     },
     "output_type": "display_data"
    }
   ],
   "source": [
    "import matplotlib.pyplot as plt\n",
    "import cmath\n",
    "\n",
    "def complex_cartesian_roots(power):\n",
    "    magnitude = math.sqrt(real**2 + imag**2)\n",
    "    argument = math.atan2(imag, real)\n",
    "    \n",
    "    root_mag = magnitude**(1/power)\n",
    "    root_args = [(argument + 2*math.pi*k) / power for k in range(0, power)]\n",
    "\n",
    "    return [root_mag*(math.cos(root) + math.sin(root)*1j) for root in root_args]\n",
    "\n",
    "def root_plotter(list_of_roots):\n",
    "    ax = plt.gca() # Create axis\n",
    "    ax.spines['left'].set_position('zero') # Centre axis\n",
    "    ax.spines['right'].set_visible(False)\n",
    "    ax.spines['bottom'].set_position('zero')\n",
    "    ax.spines['top'].set_visible(False)\n",
    "    ax.yaxis.set_ticks_position('left')\n",
    "    ax.xaxis.set_ticks_position('bottom')\n",
    "\n",
    "    plt.ylabel('Im', loc='top', fontsize=12) # Label axis\n",
    "    plt.xlabel('Re', loc='right', fontsize=12)\n",
    "    ax.plot(1, 0, \">k\", transform=ax.get_yaxis_transform(), clip_on=False) # Add arrows to axis\n",
    "    ax.plot(0, 1, \"^k\", transform=ax.get_xaxis_transform(), clip_on=False)\n",
    "\n",
    "\n",
    "    for root in list_of_roots:\n",
    "        ax.plot([0,root.real], [0,root.imag], 'bo-')\n",
    "\n",
    "    for k in range(0, len(list_of_roots)):\n",
    "        x, y = list_of_roots[k].real, list_of_roots[k].imag\n",
    "        text = \"k = \" + str(k)\n",
    "        ax.annotate(text, xy = (x, y), xytext=(x, y+0.2*np.sign(y)), fontsize=12, color=\"red\")\n",
    "\n",
    "root_plotter(complex_cartesian_roots(z_power))\n",
    "\n"
   ]
  }
 ],
 "metadata": {
  "kernelspec": {
   "display_name": "Python 3 (ipykernel)",
   "language": "python",
   "name": "python3"
  },
  "language_info": {
   "codemirror_mode": {
    "name": "ipython",
    "version": 3
   },
   "file_extension": ".py",
   "mimetype": "text/x-python",
   "name": "python",
   "nbconvert_exporter": "python",
   "pygments_lexer": "ipython3",
   "version": "3.9.6"
  }
 },
 "nbformat": 4,
 "nbformat_minor": 1
}