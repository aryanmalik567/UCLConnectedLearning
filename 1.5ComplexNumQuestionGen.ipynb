{
 "cells": [
  {
   "cell_type": "code",
   "execution_count": 15,
   "metadata": {
    "pycharm": {
     "name": "#%%\n"
    }
   },
   "outputs": [
    {
     "data": {
      "text/plain": "⎛              ⎡ i⋅θ         i⋅(2⋅π + θ)         i⋅(4⋅π + θ)         i⋅(6⋅π + \n⎜              ⎢ ───         ───────────         ───────────         ─────────\n⎜           π  ⎢  7  7 ___        7      7 ___        7      7 ___        7   \n⎜r = 2, θ = ─, ⎣e   ⋅╲╱ r , e           ⋅╲╱ r , e           ⋅╲╱ r , e         \n⎝           3                                                                 \n\nθ)         i⋅(8⋅π + θ)         i⋅(10⋅π + θ)         i⋅(12⋅π + θ)      ⎤⎞\n──         ───────────         ────────────         ────────────      ⎥⎟\n   7 ___        7      7 ___        7       7 ___        7       7 ___⎥⎟\n  ⋅╲╱ r , e           ⋅╲╱ r , e            ⋅╲╱ r , e            ⋅╲╱ r ⎦⎟\n                                                                       ⎠",
      "text/latex": "$\\displaystyle \\left( r = 2, \\  \\theta = \\frac{\\pi}{3}, \\  \\left[ e^{\\frac{i \\theta}{7}} \\sqrt[7]{r}, \\  e^{\\frac{i \\left(2 \\pi + \\theta\\right)}{7}} \\sqrt[7]{r}, \\  e^{\\frac{i \\left(4 \\pi + \\theta\\right)}{7}} \\sqrt[7]{r}, \\  e^{\\frac{i \\left(6 \\pi + \\theta\\right)}{7}} \\sqrt[7]{r}, \\  e^{\\frac{i \\left(8 \\pi + \\theta\\right)}{7}} \\sqrt[7]{r}, \\  e^{\\frac{i \\left(10 \\pi + \\theta\\right)}{7}} \\sqrt[7]{r}, \\  e^{\\frac{i \\left(12 \\pi + \\theta\\right)}{7}} \\sqrt[7]{r}\\right]\\right)$"
     },
     "execution_count": 15,
     "metadata": {},
     "output_type": "execute_result"
    }
   ],
   "source": [
    "import cmath\n",
    "import math\n",
    "import sympy\n",
    "import matplotlib.pyplot as plt\n",
    "import numpy as np\n",
    "from fractions import Fraction\n",
    "\n",
    "r, e, i, t, p = sympy.symbols('r e i theta pi')\n",
    "\n",
    "z_power = 7 # <-- Change values here\n",
    "complex_number = complex(1, sympy.sqrt(3)) # <-- Change values here\n",
    "\n",
    "def get_polar_roots(power, num):\n",
    "    x = sympy.sqrt(round(num.real**2)) # Required to get num back in root form if applicable\n",
    "    y = sympy.sqrt(round(num.imag**2))\n",
    "    magnitude = sympy.sqrt(x**2 + y**2)\n",
    "    argument = sympy.atan2(y, x)\n",
    "    complex_roots = []\n",
    "\n",
    "    for k in range(0, power):\n",
    "        complex_roots.append( r ** (Fraction(1, power)) * (e ** ((t + 2*k*p) * i/power)))\n",
    "\n",
    "    return complex_roots, magnitude, argument\n",
    "\n",
    "polar_roots = get_polar_roots(z_power, complex_number)\n",
    "roots, mag, arg = polar_roots[0], polar_roots[1], polar_roots[2]\n",
    "\n",
    "sympy.init_printing(use_latex='mathjax')\n",
    "sympy.Eq(r, mag), sympy.Eq(t, arg), roots"
   ]
  },
  {
   "cell_type": "code",
   "execution_count": 29,
   "outputs": [
    {
     "data": {
      "text/plain": "<Figure size 432x288 with 1 Axes>",
      "image/png": "[encoded data removed]"
     },
     "metadata": {
      "needs_background": "light"
     },
     "output_type": "display_data"
    }
   ],
   "source": [
    "# Done\n",
    "def complex_cartesian_roots(power, num):\n",
    "    x = num.real\n",
    "    y = num.imag\n",
    "    magnitude = abs(num)\n",
    "    argument = math.atan2(y, x)\n",
    "\n",
    "    root_mag = magnitude**(1/power)\n",
    "    root_args = [(argument + 2*math.pi*k) / power for k in range(0, power)]\n",
    "\n",
    "    return [root_mag*(math.cos(root) + math.sin(root)*1j) for root in root_args]\n",
    "\n",
    "def root_plotter(list_of_roots):\n",
    "    ax = plt.gca() # Create axis\n",
    "    ax.spines['left'].set_position('zero') # Centre axis\n",
    "    ax.spines['right'].set_visible(False)\n",
    "    ax.spines['bottom'].set_position('zero')\n",
    "    ax.spines['top'].set_visible(False)\n",
    "    ax.yaxis.set_ticks_position('left')\n",
    "    ax.xaxis.set_ticks_position('bottom')\n",
    "\n",
    "    plt.ylabel('Im', loc='top', fontsize=12) # Label axis\n",
    "    plt.xlabel('Re', loc='right', fontsize=12)\n",
    "    ax.plot(1, 0, \">k\", transform=ax.get_yaxis_transform(), clip_on=False) # Add arrows to axis\n",
    "    ax.plot(0, 1, \"^k\", transform=ax.get_xaxis_transform(), clip_on=False)\n",
    "\n",
    "\n",
    "    for root in list_of_roots:\n",
    "        ax.plot([0,root.real], [0,root.imag], 'bo-')\n",
    "\n",
    "    for k in range(0, len(list_of_roots)):\n",
    "        x, y = list_of_roots[k].real, list_of_roots[k].imag\n",
    "        text = \"k = \" + str(k)\n",
    "        ax.annotate(text, xy = (x, y), xytext=(x, y+0.2*np.sign(y)), fontsize=12, color=\"red\")\n",
    "\n",
    "root_plotter(complex_cartesian_roots(z_power, complex_number))\n",
    "\n"
   ],
   "metadata": {
    "collapsed": false,
    "pycharm": {
     "name": "#%%\n"
    }
   }
  }
 ],
 "metadata": {
  "kernelspec": {
   "display_name": "Python 3 (ipykernel)",
   "language": "python",
   "name": "python3"
  },
  "language_info": {
   "codemirror_mode": {
    "name": "ipython",
    "version": 2
   },
   "file_extension": ".py",
   "mimetype": "text/x-python",
   "name": "python",
   "nbconvert_exporter": "python",
   "pygments_lexer": "ipython2",
   "version": "2.7.6"
  }
 },
 "nbformat": 4,
 "nbformat_minor": 1
}