{
 "cells": [
  {
   "cell_type": "code",
   "execution_count": 116,
   "metadata": {
    "pycharm": {
     "name": "#%%\n"
    }
   },
   "outputs": [
    {
     "name": "stdout",
     "output_type": "stream",
     "text": [
      "1.7320508075688772\n"
     ]
    },
    {
     "data": {
      "text/plain": "⎛                            ⎡ i⋅θ         i⋅(2⋅π + θ)         i⋅(4⋅π + θ)    \n⎜                            ⎢ ───         ───────────         ───────────    \n⎜                            ⎢  5  5 ___        5      5 ___        5      5 _\n⎝r = 2, θ = 1.0471975511966, ⎣e   ⋅╲╱ r , e           ⋅╲╱ r , e           ⋅╲╱ \n\n     i⋅(6⋅π + θ)         i⋅(8⋅π + θ)      ⎤⎞\n     ───────────         ───────────      ⎥⎟\n__        5      5 ___        5      5 ___⎥⎟\nr , e           ⋅╲╱ r , e           ⋅╲╱ r ⎦⎠",
      "text/latex": "$\\displaystyle \\left( r = 2, \\  \\theta = 1.0471975511966, \\  \\left[ e^{\\frac{i \\theta}{5}} \\sqrt[5]{r}, \\  e^{\\frac{i \\left(2 \\pi + \\theta\\right)}{5}} \\sqrt[5]{r}, \\  e^{\\frac{i \\left(4 \\pi + \\theta\\right)}{5}} \\sqrt[5]{r}, \\  e^{\\frac{i \\left(6 \\pi + \\theta\\right)}{5}} \\sqrt[5]{r}, \\  e^{\\frac{i \\left(8 \\pi + \\theta\\right)}{5}} \\sqrt[5]{r}\\right]\\right)$"
     },
     "execution_count": 116,
     "metadata": {},
     "output_type": "execute_result"
    }
   ],
   "source": [
    "import cmath\n",
    "import math\n",
    "import sympy\n",
    "import matplotlib.pyplot as plt\n",
    "from fractions import Fraction\n",
    "\n",
    "r, e, i, t, p = sympy.symbols('r e i theta pi')\n",
    "\n",
    "z_power = 5 # <-- Change values here\n",
    "complex_number = complex(1, sympy.sqrt(3)) # <--\n",
    "\n",
    "def get_polar_roots(power, num):\n",
    "    x2 = round(num.real**2)\n",
    "    y2 = round(num.imag**2)\n",
    "    magnitude = sympy.sqrt(x2+y2)\n",
    "    argument = sympy.atan2(num.imag, num.real)\n",
    "    complex_roots = []\n",
    "\n",
    "    for k in range(0, power):\n",
    "        complex_roots.append(r**(Fraction(1, power))*(e**((t+2*k*p)*i/power)))\n",
    "\n",
    "    return complex_roots, magnitude, argument\n",
    "\n",
    "polar_roots = get_polar_roots(z_power, complex_number) # <-- Change values here\n",
    "roots, mag, arg = polar_roots[0], polar_roots[1], polar_roots[2]\n",
    "\n",
    "sympy.init_printing(use_latex='mathjax')\n",
    "sympy.Eq(r, mag), sympy.Eq(t, arg), roots"
   ]
  },
  {
   "cell_type": "code",
   "execution_count": 84,
   "outputs": [
    {
     "ename": "AttributeError",
     "evalue": "'Add' object has no attribute 'real'",
     "output_type": "error",
     "traceback": [
      "\u001B[1;31m---------------------------------------------------------------------------\u001B[0m",
      "\u001B[1;31mAttributeError\u001B[0m                            Traceback (most recent call last)",
      "\u001B[1;32m~\\AppData\\Local\\Temp/ipykernel_15588/3803350489.py\u001B[0m in \u001B[0;36m<module>\u001B[1;34m\u001B[0m\n\u001B[0;32m     28\u001B[0m         \u001B[0max\u001B[0m\u001B[1;33m.\u001B[0m\u001B[0mplot\u001B[0m\u001B[1;33m(\u001B[0m\u001B[1;33m[\u001B[0m\u001B[1;36m0\u001B[0m\u001B[1;33m,\u001B[0m\u001B[0mroot\u001B[0m\u001B[1;33m.\u001B[0m\u001B[0mreal\u001B[0m\u001B[1;33m]\u001B[0m\u001B[1;33m,\u001B[0m \u001B[1;33m[\u001B[0m\u001B[1;36m0\u001B[0m\u001B[1;33m,\u001B[0m\u001B[0mroot\u001B[0m\u001B[1;33m.\u001B[0m\u001B[0mimag\u001B[0m\u001B[1;33m]\u001B[0m\u001B[1;33m,\u001B[0m \u001B[1;34m'bo-'\u001B[0m\u001B[1;33m)\u001B[0m\u001B[1;33m\u001B[0m\u001B[1;33m\u001B[0m\u001B[0m\n\u001B[0;32m     29\u001B[0m \u001B[1;33m\u001B[0m\u001B[0m\n\u001B[1;32m---> 30\u001B[1;33m \u001B[0mroot_plotter\u001B[0m\u001B[1;33m(\u001B[0m\u001B[0mcomplex_cartesian_roots\u001B[0m\u001B[1;33m(\u001B[0m\u001B[0mz_power\u001B[0m\u001B[1;33m,\u001B[0m \u001B[0mcomplex_number\u001B[0m\u001B[1;33m)\u001B[0m\u001B[1;33m)\u001B[0m\u001B[1;33m\u001B[0m\u001B[1;33m\u001B[0m\u001B[0m\n\u001B[0m\u001B[0;32m     31\u001B[0m \u001B[1;33m\u001B[0m\u001B[0m\n",
      "\u001B[1;32m~\\AppData\\Local\\Temp/ipykernel_15588/3803350489.py\u001B[0m in \u001B[0;36mcomplex_cartesian_roots\u001B[1;34m(power, num)\u001B[0m\n\u001B[0;32m      1\u001B[0m \u001B[1;31m# Done\u001B[0m\u001B[1;33m\u001B[0m\u001B[1;33m\u001B[0m\u001B[1;33m\u001B[0m\u001B[0m\n\u001B[0;32m      2\u001B[0m \u001B[1;32mdef\u001B[0m \u001B[0mcomplex_cartesian_roots\u001B[0m\u001B[1;33m(\u001B[0m\u001B[0mpower\u001B[0m\u001B[1;33m,\u001B[0m \u001B[0mnum\u001B[0m\u001B[1;33m)\u001B[0m\u001B[1;33m:\u001B[0m\u001B[1;33m\u001B[0m\u001B[1;33m\u001B[0m\u001B[0m\n\u001B[1;32m----> 3\u001B[1;33m     \u001B[0mx\u001B[0m \u001B[1;33m=\u001B[0m \u001B[0mnum\u001B[0m\u001B[1;33m.\u001B[0m\u001B[0mreal\u001B[0m\u001B[1;33m\u001B[0m\u001B[1;33m\u001B[0m\u001B[0m\n\u001B[0m\u001B[0;32m      4\u001B[0m     \u001B[0my\u001B[0m \u001B[1;33m=\u001B[0m \u001B[0mnum\u001B[0m\u001B[1;33m.\u001B[0m\u001B[0mimag\u001B[0m\u001B[1;33m\u001B[0m\u001B[1;33m\u001B[0m\u001B[0m\n\u001B[0;32m      5\u001B[0m     \u001B[0mmagnitude\u001B[0m \u001B[1;33m=\u001B[0m \u001B[0mabs\u001B[0m\u001B[1;33m(\u001B[0m\u001B[0mnum\u001B[0m\u001B[1;33m)\u001B[0m\u001B[1;33m\u001B[0m\u001B[1;33m\u001B[0m\u001B[0m\n",
      "\u001B[1;31mAttributeError\u001B[0m: 'Add' object has no attribute 'real'"
     ]
    }
   ],
   "source": [
    "# Done\n",
    "def complex_cartesian_roots(power, num):\n",
    "    x = num.real\n",
    "    y = num.imag\n",
    "    magnitude = abs(num)\n",
    "    argument = math.atan2(y, x)\n",
    "\n",
    "    root_mag = magnitude**(1/power)\n",
    "    root_args = [(argument + 2*math.pi*k) / power for k in range(0, power)]\n",
    "\n",
    "    return [root_mag*(math.cos(root) + math.sin(root)*1j) for root in root_args]\n",
    "\n",
    "def root_plotter(list_of_roots):\n",
    "    ax = plt.gca() # Create axis\n",
    "    ax.spines['left'].set_position('zero') # Centre axis\n",
    "    ax.spines['right'].set_visible(False)\n",
    "    ax.spines['bottom'].set_position('zero')\n",
    "    ax.spines['top'].set_visible(False)\n",
    "    ax.yaxis.set_ticks_position('left')\n",
    "    ax.xaxis.set_ticks_position('bottom')\n",
    "\n",
    "    plt.ylabel('Im', loc='top', fontsize=12) # Label axis\n",
    "    plt.xlabel('Re', loc='right', fontsize=12)\n",
    "    ax.plot(1, 0, \">k\", transform=ax.get_yaxis_transform(), clip_on=False) # Add arrows to axis\n",
    "    ax.plot(0, 1, \"^k\", transform=ax.get_xaxis_transform(), clip_on=False)\n",
    "\n",
    "    for root in list_of_roots:\n",
    "        ax.plot([0,root.real], [0,root.imag], 'bo-')\n",
    "\n",
    "root_plotter(complex_cartesian_roots(z_power, complex_number))\n"
   ],
   "metadata": {
    "collapsed": false,
    "pycharm": {
     "name": "#%%\n"
    }
   }
  }
 ],
 "metadata": {
  "kernelspec": {
   "display_name": "Python 3 (ipykernel)",
   "language": "python",
   "name": "python3"
  },
  "language_info": {
   "codemirror_mode": {
    "name": "ipython",
    "version": 2
   },
   "file_extension": ".py",
   "mimetype": "text/x-python",
   "name": "python",
   "nbconvert_exporter": "python",
   "pygments_lexer": "ipython2",
   "version": "2.7.6"
  }
 },
 "nbformat": 4,
 "nbformat_minor": 1
}