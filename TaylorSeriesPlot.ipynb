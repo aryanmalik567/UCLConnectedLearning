{
 "cells": [
  {
   "cell_type": "code",
   "execution_count": 46,
   "metadata": {
    "collapsed": true
   },
   "outputs": [
    {
     "data": {
      "text/plain": "interactive(children=(Dropdown(description='function', options=(sin(x), cos(x), exp(x), log(x + 1)), value=sin…",
      "application/vnd.jupyter.widget-view+json": {
       "version_major": 2,
       "version_minor": 0,
       "model_id": "547dacdfaeaa4137929a1f2852b3ab1d"
      }
     },
     "metadata": {},
     "output_type": "display_data"
    },
    {
     "data": {
      "text/plain": "<function __main__.taylor_plot(function, terms)>"
     },
     "execution_count": 46,
     "metadata": {},
     "output_type": "execute_result"
    }
   ],
   "source": [
    "from sympy import *\n",
    "import ipywidgets as widgets\n",
    "\n",
    "x = Symbol('x')\n",
    "\n",
    "output = None\n",
    "\n",
    "def taylor_plot(function, terms):\n",
    "    estimate = function.series(x, 0, terms).removeO()\n",
    "    global output\n",
    "    output = function.series(x, 0, terms)\n",
    "\n",
    "    graph = plot(function, estimate, (x, -5, 5), legend=True, show=False, dir='+-')\n",
    "    graph[0].line_color = \"blue\"\n",
    "    graph[1].line_color = \"red\"\n",
    "    graph.show()\n",
    "\n",
    "widgets.interact(taylor_plot, function=[sin(x), cos(x), exp(x), log(1+x)],\n",
    "                                terms = widgets.IntSlider(min=1, max=10, step=1, value=5))"
   ]
  },
  {
   "cell_type": "code",
   "execution_count": 48,
   "outputs": [
    {
     "data": {
      "text/plain": "     3     5     7         \n    x     x     x      ⎛ 8⎞\nx - ── + ─── - ──── + O⎝x ⎠\n    6    120   5040        ",
      "text/latex": "$\\displaystyle x - \\frac{x^{3}}{6} + \\frac{x^{5}}{120} - \\frac{x^{7}}{5040} + O\\left(x^{8}\\right)$"
     },
     "execution_count": 48,
     "metadata": {},
     "output_type": "execute_result"
    }
   ],
   "source": [
    "#Run this cell to print terms in taylor series\n",
    "\n",
    "init_printing(use_latex='mathjax')\n",
    "output"
   ],
   "metadata": {
    "collapsed": false,
    "pycharm": {
     "name": "#%%\n"
    }
   }
  }
 ],
 "metadata": {
  "kernelspec": {
   "display_name": "Python 3",
   "language": "python",
   "name": "python3"
  },
  "language_info": {
   "codemirror_mode": {
    "name": "ipython",
    "version": 2
   },
   "file_extension": ".py",
   "mimetype": "text/x-python",
   "name": "python",
   "nbconvert_exporter": "python",
   "pygments_lexer": "ipython2",
   "version": "2.7.6"
  }
 },
 "nbformat": 4,
 "nbformat_minor": 0
}