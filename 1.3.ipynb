{
 "cells": [
  {
   "cell_type": "code",
   "execution_count": 8,
   "metadata": {
    "collapsed": true
   },
   "outputs": [
    {
     "data": {
      "text/plain": "interactive(children=(FloatSlider(value=0.0, description='theta', max=6.283185307179586, min=-3.14159265358979…",
      "application/vnd.jupyter.widget-view+json": {
       "version_major": 2,
       "version_minor": 0,
       "model_id": "61f1921e7da94cb48e816c09d69dd87a"
      }
     },
     "metadata": {},
     "output_type": "display_data"
    },
    {
     "data": {
      "text/plain": "<function __main__.red_dot(theta)>"
     },
     "execution_count": 8,
     "metadata": {},
     "output_type": "execute_result"
    }
   ],
   "source": [
    "from ipywidgets import interact, interactive, fixed, interact_manual\n",
    "import ipywidgets as widgets\n",
    "import matplotlib.pyplot as plt\n",
    "from matplotlib.patches import Arc\n",
    "import numpy as np\n",
    "import math\n",
    "\n",
    "#plt.xlim([-np.pi,2*np.pi])\n",
    "#plt.ylim([-1.1,1.1])\n",
    "#plt.xticks([-np.pi, -np.pi/2, 0, np.pi/2, np.pi, 3*np.pi/2, 2*np.pi],[r'$-\\pi$', r'$-\\pi/2$', r'$0$', r'$+\\pi/2$', r'$+\\pi$', r\"$+{3}\\pi/2$\", r\"$+{2}\\pi$\"])\n",
    "#plt.yticks([-1, 0, +1],[r'$-1$', r'$0$', r'$+1$'])\n",
    "def create_sin_cos_axis():\n",
    "    ax = plt.gca()\n",
    "    ax.spines['left'].set_position('zero') # Centre axis\n",
    "    ax.spines['right'].set_visible(False)\n",
    "    ax.spines['bottom'].set_position('zero')\n",
    "    ax.spines['top'].set_visible(False)\n",
    "    ax.yaxis.set_ticks_position('left')\n",
    "    ax.xaxis.set_ticks_position('bottom')\n",
    "    ax.set_yticklabels([-1, 0, +1], [r'$-1$', r'$0$', r'$+1$']) # Remove numbers from axis\n",
    "    ax.set_xticklabels([-np.pi, -np.pi/2, 0, np.pi/2, np.pi, 3*np.pi/2, 2*np.pi], [r'$-\\pi$', r'$-\\pi/2$', r'$0$', r'$+\\pi/2$', r'$+\\pi$', r\"$+{3}\\pi/2$\", r\"$+{2}\\pi$\"])\n",
    "    ax.axis([-np.pi, 2*np.pi, -1.1, 1.1]) # Set axis range\n",
    "    plt.ylabel('Y', loc='top', fontsize=12) # Label axis\n",
    "    plt.xlabel('Theta', loc='right', fontsize=12)\n",
    "    ax.plot(1, 0, \">k\", transform=ax.get_yaxis_transform(), clip_on=False) # Add arrows to axis\n",
    "    ax.plot(0, 1, \"^k\", transform=ax.get_xaxis_transform(), clip_on=False)\n",
    "\n",
    "    xs = np.arange(-np.pi,2*np.pi,0.1)\n",
    "    sinx = np.sin(xs)\n",
    "    cosx = np.cos(xs)\n",
    "    ax.plot(xs, sinx, color='orange')\n",
    "    ax.plot(xs, cosx, color='blue')\n",
    "    return ax\n",
    "\n",
    "def annotation(sinx, cosx):\n",
    "    if sinx < 0:\n",
    "        print('Sin value negative, down on real axis')\n",
    "    elif sinx > 0:\n",
    "        print('Sin value positive, up on real axis')\n",
    "    elif sinx == 0:\n",
    "        print('Sin value is 0, on real axis')\n",
    "\n",
    "    if cosx < 0:\n",
    "        print('Cos value negative, left on imaginary axis')\n",
    "    elif cosx > 0:\n",
    "        print('Cos value positive, right on imaginary axis')\n",
    "    elif cosx == 0:\n",
    "        print('Cos value is 0, on imaginary axis')\n",
    "\n",
    "def red_dot(theta):\n",
    "    x1 = theta\n",
    "    y1sin = np.sin(theta)\n",
    "    y1cos = np.cos(theta)\n",
    "\n",
    "    plt.scatter(x1,y1sin, color='red')\n",
    "    plt.scatter(x1,y1cos, color='red')\n",
    "\n",
    "    plt.ylabel('Y')\n",
    "    plt.xlabel('Theta')\n",
    "\n",
    "    plt.figure(figsize=(6,6))\n",
    "    x_vals = [0,y1cos]\n",
    "    y_vals = [0,y1sin]\n",
    "    dot_vals1 = [y1cos,y1cos]\n",
    "    dot_vals2 = [y1sin,y1sin]\n",
    "    plt.axhline(y=0,color='black')\n",
    "    plt.axvline(x=0, color='black')\n",
    "    plt.xlim([-1.1,1.1])\n",
    "    plt.ylim([-1.1,1.1])\n",
    "    plt.ylabel('Imaginary')\n",
    "    plt.xlabel('Real')\n",
    "    plt.scatter(y1cos,y1sin)\n",
    "    plt.plot(dot_vals1,y_vals, '--', color='orange')\n",
    "    plt.plot(x_vals,dot_vals2, '--', color='blue')\n",
    "    plt.plot(x_vals,y_vals)\n",
    "    return plt.show()\n",
    "\n",
    "interact(red_dot, theta=widgets.FloatSlider(min=-np.pi, max=2*np.pi, step=0.1, value=0))"
   ]
  }
 ],
 "metadata": {
  "kernelspec": {
   "display_name": "Python 3 (ipykernel)",
   "language": "python",
   "name": "python3"
  },
  "language_info": {
   "codemirror_mode": {
    "name": "ipython",
    "version": 3
   },
   "file_extension": ".py",
   "mimetype": "text/x-python",
   "name": "python",
   "nbconvert_exporter": "python",
   "pygments_lexer": "ipython3",
   "version": "3.9.6"
  }
 },
 "nbformat": 4,
 "nbformat_minor": 1
}