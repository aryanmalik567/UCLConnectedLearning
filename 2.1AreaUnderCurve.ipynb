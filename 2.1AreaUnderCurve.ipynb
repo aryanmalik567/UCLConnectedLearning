{
 "cells": [
  {
   "cell_type": "code",
   "execution_count": 65,
   "metadata": {
    "collapsed": true,
    "pycharm": {
     "name": "#%%\n"
    }
   },
   "outputs": [
    {
     "data": {
      "text/plain": "interactive(children=(IntSlider(value=10, description='No. of rectangles', max=50, min=5), Output()), _dom_cla…",
      "application/vnd.jupyter.widget-view+json": {
       "version_major": 2,
       "version_minor": 0,
       "model_id": "0f7d5ff877d34c29ac2df85a1287707c"
      }
     },
     "metadata": {},
     "output_type": "display_data"
    },
    {
     "data": {
      "text/plain": "<function __main__.riemann_sum(N)>"
     },
     "execution_count": 65,
     "metadata": {},
     "output_type": "execute_result"
    }
   ],
   "source": [
    "import numpy as np\n",
    "import matplotlib.pyplot as plt\n",
    "import ipywidgets as widgets\n",
    "\n",
    "a = -1; b = 2.7\n",
    "\n",
    "def riemann_sum(N):\n",
    "    ax = plt.gca()\n",
    "    ax.set_yticklabels([]) # Remove numbers from axis\n",
    "    plt.xticks([a, b], [\"a\", \"b\"])\n",
    "    plt.ylabel('f(x)', loc='top', fontsize=12) # Label axis\n",
    "    plt.xlabel('x', loc='right', fontsize=12)\n",
    "\n",
    "    f = lambda x : x**3 - 2.6*x**2 + 5\n",
    "    xs = np.linspace(a, b, 100)\n",
    "    ys = f(xs)\n",
    "    plt.plot(xs, ys, 'b')\n",
    "\n",
    "    x = np.linspace(a,b,N+1)\n",
    "    y = f(x)\n",
    "    x_left = x[:-1] # Left endpoints\n",
    "    y_left = y[:-1]\n",
    "    plt.bar(x_left,y_left, width=(b-a)/N, alpha=0.3, align='edge', edgecolor='b')\n",
    "\n",
    "    return plt.show()\n",
    "\n",
    "widgets.interact(riemann_sum, N = widgets.IntSlider(min=5, max=50, step=1, value=10,\n",
    "                                                    description=\"No. of rectangles\"))"
   ]
  }
 ],
 "metadata": {
  "kernelspec": {
   "display_name": "Python 3",
   "language": "python",
   "name": "python3"
  },
  "language_info": {
   "codemirror_mode": {
    "name": "ipython",
    "version": 2
   },
   "file_extension": ".py",
   "mimetype": "text/x-python",
   "name": "python",
   "nbconvert_exporter": "python",
   "pygments_lexer": "ipython2",
   "version": "2.7.6"
  }
 },
 "nbformat": 4,
 "nbformat_minor": 0
}