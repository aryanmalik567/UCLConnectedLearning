{
 "cells": [
  {
   "cell_type": "code",
   "execution_count": 17,
   "metadata": {
    "collapsed": true
   },
   "outputs": [
    {
     "data": {
      "text/plain": "interactive(children=(IntSlider(value=1, description='n', max=20, min=1), Output()), _dom_classes=('widget-int…",
      "application/vnd.jupyter.widget-view+json": {
       "version_major": 2,
       "version_minor": 0,
       "model_id": "52723f3efca645f5b558d4969b6761a8"
      }
     },
     "metadata": {},
     "output_type": "display_data"
    },
    {
     "data": {
      "text/plain": "<function __main__.bar_plot(n)>"
     },
     "execution_count": 17,
     "metadata": {},
     "output_type": "execute_result"
    }
   ],
   "source": [
    "import matplotlib.pyplot as plt\n",
    "import matplotlib.ticker as ticker\n",
    "import ipywidgets as widgets\n",
    "\n",
    "axis_width = 1\n",
    "\n",
    "def setup(ax, n):\n",
    "    ax.spines['right'].set_color('none')\n",
    "    ax.spines['left'].set_color('none')\n",
    "    ax.yaxis.set_major_locator(ticker.NullLocator())\n",
    "    ax.spines['top'].set_color('none')\n",
    "    ax.xaxis.set_ticks_position('bottom')\n",
    "\n",
    "    global axis_width\n",
    "    ax.set_xlim(1-axis_width, 1)\n",
    "\n",
    "    if n < 5:\n",
    "        axis_width = 1\n",
    "    elif 5 <= n < 10:\n",
    "        axis_width = 0.5\n",
    "    elif 10 <= n < 15:\n",
    "        axis_width = 0.25\n",
    "    elif 15 <= n:\n",
    "        axis_width = 0.125\n",
    "\n",
    "    ax.set_ylim(0, 1)\n",
    "    ax.patch.set_alpha(0.0)\n",
    "    plt.title(f\"Illustration of Σ(1/2)^n = 1, from x = {1-axis_width} to 1\")\n",
    "\n",
    "def bar_plot(n):\n",
    "    ax = plt.gca()\n",
    "    setup(ax, n)\n",
    "    sum = 0\n",
    "    for num in range(1, n+1):\n",
    "        plt.bar(sum, 0.9, width=(1/2)**num, align='edge', edgecolor='b')\n",
    "        sum += (1/2)**num\n",
    "\n",
    "    plt.show()\n",
    "    return f\"sum of series upto {n}th term: {sum}\"\n",
    "\n",
    "widgets.interact(bar_plot, n = widgets.IntSlider(min=1, max=20, step=1, value=1))"
   ]
  }
 ],
 "metadata": {
  "kernelspec": {
   "display_name": "Python 3",
   "language": "python",
   "name": "python3"
  },
  "language_info": {
   "codemirror_mode": {
    "name": "ipython",
    "version": 2
   },
   "file_extension": ".py",
   "mimetype": "text/x-python",
   "name": "python",
   "nbconvert_exporter": "python",
   "pygments_lexer": "ipython2",
   "version": "2.7.6"
  }
 },
 "nbformat": 4,
 "nbformat_minor": 0
}