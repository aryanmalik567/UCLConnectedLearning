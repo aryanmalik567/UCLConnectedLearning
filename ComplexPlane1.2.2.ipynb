{
 "cells": [
  {
   "cell_type": "code",
   "execution_count": 58,
   "metadata": {
    "collapsed": true,
    "pycharm": {
     "name": "#%%\n"
    }
   },
   "outputs": [
    {
     "data": {
      "text/plain": "interactive(children=(Dropdown(description='quadrant', options=(('First quadrant', [2, 3]), ('Second quadrant'…",
      "application/vnd.jupyter.widget-view+json": {
       "version_major": 2,
       "version_minor": 0,
       "model_id": "f7651064ab794cd5a076bcbf1fdfe601"
      }
     },
     "metadata": {},
     "output_type": "display_data"
    },
    {
     "data": {
      "text/plain": "<function __main__.imaginary_plot(quadrant)>"
     },
     "execution_count": 58,
     "metadata": {},
     "output_type": "execute_result"
    }
   ],
   "source": [
    "import matplotlib.pyplot as plt\n",
    "import ipywidgets as widgets\n",
    "from numpy import *\n",
    "\n",
    "def imaginary_plot(quadrant):\n",
    "    ax = plt.gca() # Create axis\n",
    "    x, y = quadrant[0], quadrant[1]\n",
    "\n",
    "    ax.spines['left'].set_position('zero') # Centre axis\n",
    "    ax.spines['bottom'].set_position('zero')\n",
    "    ax.axis([-5, 5, -5, 5]) # Set axis range\n",
    "    ax.set_yticklabels([]) # Remove numbers from axis\n",
    "    ax.set_xticklabels([])\n",
    "    plt.ylabel('Imaginary', loc='top') # Label axis\n",
    "    plt.xlabel('Real', loc='right')\n",
    "\n",
    "    ax.plot([0,x], [0,y], 'bo-') # First quadrant plot\n",
    "    ax.annotate(\"z = x+iy\", xy = (x, y), xytext=(x+0.1*x, y+0.2*y))\n",
    "\n",
    "    return plt.show()\n",
    "\n",
    "widgets.interact(imaginary_plot, quadrant=[(\"First quadrant\", [2,3]), (\"Second quadrant\", [-2,3]),\n",
    "                                         (\"Third quadrant\", [-2,-3]), (\"Fourth quadrant\", [2,-3])])\n",
    "\n"
   ]
  }
 ],
 "metadata": {
  "kernelspec": {
   "display_name": "Python 3",
   "language": "python",
   "name": "python3"
  },
  "language_info": {
   "codemirror_mode": {
    "name": "ipython",
    "version": 2
   },
   "file_extension": ".py",
   "mimetype": "text/x-python",
   "name": "python",
   "nbconvert_exporter": "python",
   "pygments_lexer": "ipython2",
   "version": "2.7.6"
  }
 },
 "nbformat": 4,
 "nbformat_minor": 0
}