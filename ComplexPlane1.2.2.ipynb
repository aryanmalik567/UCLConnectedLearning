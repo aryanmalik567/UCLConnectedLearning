{
 "cells": [
  {
   "cell_type": "code",
   "execution_count": 1,
   "metadata": {
    "pycharm": {
     "name": "#%%\n"
    }
   },
   "outputs": [
    {
     "data": {
      "text/plain": "interactive(children=(Dropdown(description='quadrant', options=(('First quadrant', [2, 3]), ('Second quadrant'…",
      "application/vnd.jupyter.widget-view+json": {
       "version_major": 2,
       "version_minor": 0,
       "model_id": "c21b803bf830451291595fd15b3cd413"
      }
     },
     "metadata": {},
     "output_type": "display_data"
    },
    {
     "data": {
      "text/plain": "<function __main__.imaginary_plot(quadrant)>"
     },
     "execution_count": 1,
     "metadata": {},
     "output_type": "execute_result"
    },
    {
     "data": {
      "text/plain": "<Figure size 432x288 with 1 Axes>",
      "image/png": "[encoded data removed]"
     },
     "metadata": {
      "needs_background": "light"
     },
     "output_type": "display_data"
    }
   ],
   "source": [
    "import matplotlib.pyplot as plt\n",
    "import ipywidgets as widgets\n",
    "\n",
    "def create_axis():\n",
    "    ax = plt.gca() # Create axis\n",
    "    ax.spines['left'].set_position('zero') # Centre axis\n",
    "    ax.spines['right'].set_visible(False)\n",
    "    ax.spines['bottom'].set_position('zero')\n",
    "    ax.spines['top'].set_visible(False)\n",
    "    ax.yaxis.set_ticks_position('left')\n",
    "    ax.xaxis.set_ticks_position('bottom')\n",
    "    ax.set_yticklabels([]) # Remove numbers from axis\n",
    "    ax.set_xticklabels([])\n",
    "    ax.axis([-5, 5, -5, 5]) # Set axis range\n",
    "    plt.ylabel('Im', loc='top', fontsize=12) # Label axis\n",
    "    plt.xlabel('Re', loc='right', fontsize=12)\n",
    "    ax.plot(1, 0, \">k\", transform=ax.get_yaxis_transform(), clip_on=False) # Add arrows to axis\n",
    "    ax.plot(0, 1, \"^k\", transform=ax.get_xaxis_transform(), clip_on=False)\n",
    "    return ax\n",
    "\n",
    "def annotate_axis(ax, x, y):\n",
    "    if x > 0 and y > 0:\n",
    "        complex_text = \"z = x + iy\"\n",
    "    elif x < 0 and y > 0:\n",
    "        complex_text = \"z = -x + iy\"\n",
    "    elif x > 0 and y < 0:\n",
    "        complex_text = \"z = x - iy\"\n",
    "    else:\n",
    "        complex_text = \"z = -x - iy\"\n",
    "\n",
    "    ax.annotate(complex_text, xy = (x, y), xytext=(x+0.1*x, y+0.2*y), fontsize=12)\n",
    "    ax.annotate(\"|z|\", xy=(x, y), xytext=(x-0.65*x, y-0.3*y), fontsize=12, color=\"blue\")\n",
    "\n",
    "def quadrant_select(quadrant):\n",
    "    plt.cla() # Clear axis\n",
    "    ax = create_axis()\n",
    "\n",
    "    x, y = quadrant[0], quadrant[1]\n",
    "    ax.plot([0,x], [0,y], 'bo-') # Quadrant plot\n",
    "    annotate_axis(ax, x, y)\n",
    "\n",
    "    return plt.show()\n",
    "\n",
    "widgets.interact(quadrant_select, quadrant=[(\"First quadrant\", [2,3]), (\"Second quadrant\", [-2,3]),\n",
    "                                         (\"Third quadrant\", [-2,-3]), (\"Fourth quadrant\", [2,-3])])\n",
    "\n"
   ]
  }
 ],
 "metadata": {
  "kernelspec": {
   "display_name": "Python 3 (ipykernel)",
   "language": "python",
   "name": "python3"
  },
  "language_info": {
   "codemirror_mode": {
    "name": "ipython",
    "version": 3
   },
   "file_extension": ".py",
   "mimetype": "text/x-python",
   "name": "python",
   "nbconvert_exporter": "python",
   "pygments_lexer": "ipython3",
   "version": "3.9.6"
  }
 },
 "nbformat": 4,
 "nbformat_minor": 1
}