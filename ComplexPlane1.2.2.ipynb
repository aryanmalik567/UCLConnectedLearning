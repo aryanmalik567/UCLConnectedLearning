{
 "cells": [
  {
   "cell_type": "code",
   "execution_count": 29,
   "metadata": {
    "collapsed": true,
    "pycharm": {
     "name": "#%%\n"
    }
   },
   "outputs": [
    {
     "data": {
      "text/plain": "Text(2.2, 3.3, 'z = x+iy')"
     },
     "execution_count": 29,
     "metadata": {},
     "output_type": "execute_result"
    },
    {
     "data": {
      "text/plain": "<Figure size 432x288 with 1 Axes>",
      "image/png": "[encoded data removed]"
     },
     "metadata": {
      "needs_background": "light"
     },
     "output_type": "display_data"
    }
   ],
   "source": [
    "import matplotlib.pyplot as plt\n",
    "import ipywidgets as widgets\n",
    "from numpy import *\n",
    "\n",
    "ax = plt.gca() # Create axis\n",
    "\n",
    "ax.spines['left'].set_position('zero') #Centre axis\n",
    "ax.spines['bottom'].set_position('zero')\n",
    "ax.axis([-5, 5, -5, 5]) # Set axis range\n",
    "ax.set_yticklabels([]) # Remove numbers from axis\n",
    "ax.set_xticklabels([])\n",
    "plt.ylabel('Imaginary', loc='top') # Label axis\n",
    "plt.xlabel('Real', loc='right')\n",
    "\n",
    "ax.plot([0,2], [0,3], 'bo-') # First quadrant plot\n",
    "ax.annotate(\"z = x+iy\", xy = (2, 3), xytext=(2.2,3.3))"
   ]
  }
 ],
 "metadata": {
  "kernelspec": {
   "display_name": "Python 3",
   "language": "python",
   "name": "python3"
  },
  "language_info": {
   "codemirror_mode": {
    "name": "ipython",
    "version": 2
   },
   "file_extension": ".py",
   "mimetype": "text/x-python",
   "name": "python",
   "nbconvert_exporter": "python",
   "pygments_lexer": "ipython2",
   "version": "2.7.6"
  }
 },
 "nbformat": 4,
 "nbformat_minor": 0
}